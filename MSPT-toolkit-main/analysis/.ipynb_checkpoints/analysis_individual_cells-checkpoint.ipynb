{
 "cells": [
  {
   "cell_type": "code",
   "execution_count": 1,
   "id": "a3c2d9f0-6cac-4a86-8c85-b12be674ab33",
   "metadata": {},
   "outputs": [
    {
     "name": "stdout",
     "output_type": "stream",
     "text": [
      "pytorch/CUDA not available or not correctly installed\n"
     ]
    }
   ],
   "source": [
    "import numpy as np\n",
    "import pandas as pd\n",
    "import trackpy\n",
    "import os\n",
    "import h5py\n",
    "import matplotlib as mpl\n",
    "import matplotlib.pyplot as plt\n",
    "from datetime import datetime\n",
    "import mspt.particle_fitting as fit\n",
    "import mspt.image_processing as img\n",
    "import mspt.particle_detection as detect\n",
    "import mspt.trajectory_analysis1 as traj\n",
    "import mspt.plotting as plot\n",
    "os.environ['NUMEXPR_MAX_THREADS'] = '32'\n"
   ]
  },
  {
   "cell_type": "code",
   "execution_count": 2,
   "id": "41422e75-2805-4054-be2b-6b0c7b8369e4",
   "metadata": {},
   "outputs": [],
   "source": [
    "# General parameters\n",
    "batch_mode = True\n",
    "frame_range = []\n",
    "navg = 1\n",
    "mode = 'continuous_median'\n",
    "window_length = 1001\n",
    "parallel = True\n",
    "GPU = False\n",
    "thresh = 0.00055\n",
    "DoG_estimates = {'T': 0.1423, 's': 2.1436, 'sigma': 1.2921}\n",
    "dmax = 4.\n",
    "max_frames_to_vanish = 0\n",
    "minimum_trajectory_length = 5\n",
    "\n",
    "# Movie acquisition parameters\n",
    "frame_rate = 199.8\n",
    "pixel_size = 84.4\n",
    "n_timelags_MSD = None\n",
    "n_timelags_JDD = None\n",
    "slope = 32876.71\n",
    "offset = -9.26\n"
   ]
  },
  {
   "cell_type": "code",
   "execution_count": 3,
   "id": "4e19fdd3-2be7-4c94-887b-e82e03bb1661",
   "metadata": {},
   "outputs": [
    {
     "name": "stdout",
     "output_type": "stream",
     "text": [
      "Selected file: /Users/jamesmclean/Documents/Uni/Laidlaw/Ralf_Research/code/moviestest/004_2nM_HA500_in_8mM_MgCl2_dry_PDL.mp\n"
     ]
    }
   ],
   "source": [
    "# Specify directory\n",
    "directory = img.directoryDialog(os.getcwd())\n",
    "filepaths_data = img.find_filepaths(directory, extension='mp', exclude=None)\n",
    "\n",
    "assert len(filepaths_data) > 0, 'Cannot find any movie files to process in current directory'\n",
    "\n",
    "# Process first file\n",
    "filename = filepaths_data[0]\n",
    "print(f\"Selected file: {filename}\")\n"
   ]
  },
  {
   "cell_type": "code",
   "execution_count": 4,
   "id": "2b3c6629-456e-45c7-aac3-01bae8ddbac4",
   "metadata": {},
   "outputs": [
    {
     "name": "stdout",
     "output_type": "stream",
     "text": [
      "Loaded /Users/jamesmclean/Documents/Uni/Laidlaw/Ralf_Research/code/moviestest/004_2nM_HA500_in_8mM_MgCl2_dry_PDL.mp\n"
     ]
    },
    {
     "data": {
      "application/vnd.jupyter.widget-view+json": {
       "model_id": "1bc8f33b617a4f6c917e7beade51b391",
       "version_major": 2,
       "version_minor": 0
      },
      "text/plain": [
       "Generating frames...:   0%|          | 0/5994 [00:00<?, ?frames/s]"
      ]
     },
     "metadata": {},
     "output_type": "display_data"
    },
    {
     "name": "stdout",
     "output_type": "stream",
     "text": [
      "Background removal completed.\n"
     ]
    }
   ],
   "source": [
    "# Apply continuous median background removal\n",
    "frames, file = img.mp_reader(batch_mode=batch_mode,\n",
    "                             file_to_load=filename,\n",
    "                             frame_range=frame_range,\n",
    "                             mode=mode,\n",
    "                             navg=navg,\n",
    "                             window_length=window_length,\n",
    "                             parallel=parallel,\n",
    "                             GPU=GPU)\n",
    "print(\"Background removal completed.\")\n"
   ]
  },
  {
   "cell_type": "code",
   "execution_count": 5,
   "id": "de0a9016-12af-47bf-9312-54a73bb3cded",
   "metadata": {},
   "outputs": [
    {
     "data": {
      "application/vnd.jupyter.widget-view+json": {
       "model_id": "d93565d3d6c8421abacc1ab9a92b3d3e",
       "version_major": 2,
       "version_minor": 0
      },
      "text/plain": [
       "Identifying particle candidates...:   0%|          | 0/4994 [00:00<?, ?frames/s]"
      ]
     },
     "metadata": {},
     "output_type": "display_data"
    },
    {
     "name": "stdout",
     "output_type": "stream",
     "text": [
      "344418 particle candidates identified\n"
     ]
    },
    {
     "data": {
      "application/vnd.jupyter.widget-view+json": {
       "model_id": "d6b700b5be8942669ba8051097b416a7",
       "version_major": 2,
       "version_minor": 0
      },
      "text/plain": [
       "Fitting particles...:   0%|          | 0/344418 [00:00<?, ?candidate spots/s]"
      ]
     },
     "metadata": {},
     "output_type": "display_data"
    },
    {
     "name": "stdout",
     "output_type": "stream",
     "text": [
      "Candidate spots detection and fitting completed.\n"
     ]
    }
   ],
   "source": [
    "# Detect and fit candidate spots\n",
    "fitted_particles = fit.particle_fitter(frames,\n",
    "                                       halfsize=window_length//2,\n",
    "                                       thresh=thresh,\n",
    "                                       method='trust-ncg',\n",
    "                                       DoG_estimates=DoG_estimates)\n",
    "print(\"Candidate spots detection and fitting completed.\")\n"
   ]
  },
  {
   "cell_type": "code",
   "execution_count": 6,
   "id": "687a480a-c931-41fe-b4c1-a2ad135a88f2",
   "metadata": {},
   "outputs": [
    {
     "name": "stdout",
     "output_type": "stream",
     "text": [
      "Frame 5493: 35 trajectories present.\n",
      "Trajectories linked and filtered.\n"
     ]
    }
   ],
   "source": [
    "# Link trajectories\n",
    "linked_trajectories = trackpy.link_df(fitted_particles, search_range=dmax, memory=max_frames_to_vanish)\n",
    "linked_trajectories = linked_trajectories.sort_values(by=['particle', 'frame'])\n",
    "trajectories_lenfilt = trackpy.filter_stubs(linked_trajectories, minimum_trajectory_length)\n",
    "print(\"Trajectories linked and filtered.\")\n"
   ]
  },
  {
   "cell_type": "code",
   "execution_count": 7,
   "id": "4c1e85ad-05e4-44e2-b265-ee916e768c6d",
   "metadata": {},
   "outputs": [
    {
     "name": "stdout",
     "output_type": "stream",
     "text": [
      "Trajectories saved to trajectories_temp.csv.\n"
     ]
    }
   ],
   "source": [
    "# Save trajectories to a temporary CSV file\n",
    "trajectories_file = 'trajectories_temp.csv'\n",
    "trajectories_lenfilt.to_csv(trajectories_file, index=False)\n",
    "print(f\"Trajectories saved to {trajectories_file}.\")\n"
   ]
  },
  {
   "cell_type": "code",
   "execution_count": 8,
   "id": "534e855f-76de-4b54-8f91-fd971f57c6f2",
   "metadata": {},
   "outputs": [
    {
     "data": {
      "application/vnd.jupyter.widget-view+json": {
       "model_id": "0524642a705f4f998d09b0238adeceda",
       "version_major": 2,
       "version_minor": 0
      },
      "text/plain": [
       "  0%|          | 0/8825 [00:00<?, ?trajectories/s]"
      ]
     },
     "metadata": {},
     "output_type": "display_data"
    },
    {
     "name": "stdout",
     "output_type": "stream",
     "text": [
      "Saved trajectory analysis results to: dummy_output.h5\n",
      "Trajectories fitting completed.\n"
     ]
    }
   ],
   "source": [
    "# Create a dummy output file path\n",
    "dummy_output_file = 'dummy_output.h5'\n",
    "\n",
    "# Fit trajectories and store results in memory\n",
    "traj.fit_trajectories([trajectories_file],\n",
    "                      output_file=dummy_output_file,\n",
    "                      frame_rate=frame_rate,\n",
    "                      pixel_size=pixel_size,\n",
    "                      n_timelags_MSD=n_timelags_MSD,\n",
    "                      n_timelags_JDD=n_timelags_JDD)\n",
    "print(\"Trajectories fitting completed.\")\n"
   ]
  },
  {
   "cell_type": "code",
   "execution_count": 9,
   "id": "d70ef0e0-795b-4f83-b213-efd2a8f48052",
   "metadata": {},
   "outputs": [
    {
     "name": "stdout",
     "output_type": "stream",
     "text": [
      "Data loaded from dummy output file and cleaned up.\n"
     ]
    }
   ],
   "source": [
    "# Load data from the dummy output file\n",
    "with pd.HDFStore(dummy_output_file, 'r') as dfs:\n",
    "    results = pd.concat([dfs[key] for key in dfs.keys()])\n",
    "\n",
    "# Clean up the dummy output file\n",
    "os.remove(dummy_output_file)\n",
    "os.remove(trajectories_file)\n",
    "print(\"Data loaded from dummy output file and cleaned up.\")\n"
   ]
  },
  {
   "cell_type": "code",
   "execution_count": 10,
   "id": "12510baf-d20e-43d1-89d0-91f251a5e4fc",
   "metadata": {},
   "outputs": [
    {
     "name": "stdout",
     "output_type": "stream",
     "text": [
      "Converted contrast to mass.\n"
     ]
    }
   ],
   "source": [
    "# Convert contrast to mass using the linear relationship obtained from calibration measurements\n",
    "results['median_mass'] = traj.apply_calibration(results, slope=slope, offset=offset)\n",
    "print(\"Converted contrast to mass.\")\n"
   ]
  },
  {
   "cell_type": "code",
   "execution_count": 11,
   "id": "72163f48-f38e-4a9f-8989-374c62446098",
   "metadata": {},
   "outputs": [
    {
     "name": "stdout",
     "output_type": "stream",
     "text": [
      "Corrected path: /\n",
      "Directory being checked: /\n",
      "CSV files found: []\n",
      "Error: No or multiple detection CSV files found in /\n",
      "Calculated particle numbers.\n"
     ]
    }
   ],
   "source": [
    "# Calculate the number of particles present for each trajectory 'particle number (linked)'\n",
    "results['particle number (linked)'] = traj.calc_particle_number_linked(results)\n",
    "results['particle number (detected)'] = traj.calc_particle_number_detected(results, '')\n",
    "print(\"Calculated particle numbers.\")\n"
   ]
  },
  {
   "cell_type": "code",
   "execution_count": 12,
   "id": "5910ab1d-6ad4-4032-8b17-7501f059a066",
   "metadata": {},
   "outputs": [
    {
     "data": {
      "text/plain": [
       "'# Check for CSV files in the current directory\\ndirectory = os.getcwd()\\nprint(f\"Corrected path: {directory}\")\\nprint(f\"Directory being checked: {directory}\")\\n\\ncsv_files = [file for file in os.listdir(directory) if file.endswith(\\'.csv\\')]\\nprint(f\"CSV files found: {csv_files}\")\\n\\n# Ensure only one CSV file is found\\nif len(csv_files) != 1:\\n    print(f\"Error: No or multiple detection CSV files found in {directory}\")\\nelse:\\n    csv_file = csv_files[0]\\n    print(f\"Processing CSV file: {csv_file}\")\\n\\n    # Load the CSV file\\n    df = pd.read_csv(csv_file)\\n    \\n    # Calculate the number of particles present for each trajectory \\'particle number (linked)\\'\\n    df[\\'particle number (linked)\\'] = traj.calc_particle_number_linked(df)\\n    df[\\'particle number (detected)\\'] = traj.calc_particle_number_detected(df, \\'\\')\\n\\n    # Save the updated DataFrame\\n    df.to_csv(csv_file, index=False)\\n    print(\"Calculated particle numbers and updated CSV file.\")\\n'"
      ]
     },
     "execution_count": 12,
     "metadata": {},
     "output_type": "execute_result"
    }
   ],
   "source": []
  },
  {
   "cell_type": "code",
   "execution_count": 13,
   "id": "e6af2908-ba38-40be-bfb1-e108afc2ee25",
   "metadata": {},
   "outputs": [
    {
     "name": "stdout",
     "output_type": "stream",
     "text": [
      "n = 3865 trajectories,           shape of KDE: (511, 512),           relative sum of KDE within plotting frame: 0.78\n"
     ]
    },
    {
     "data": {
      "image/png": "[encoded data removed]",
      "text/plain": [
       "<Figure size 500x500 with 4 Axes>"
      ]
     },
     "metadata": {},
     "output_type": "display_data"
    },
    {
     "name": "stdout",
     "output_type": "stream",
     "text": [
      "Plot generated.\n"
     ]
    }
   ],
   "source": [
    "# Plot data\n",
    "fig, axs, df_kde, dat = plot.generate_2D_KDE(results,\n",
    "                                             x='median_mass',\n",
    "                                             y='Deff_MSD_JDD',\n",
    "                                             x_range=(0, 400),\n",
    "                                             y_range=(-1, 1),  # in log space\n",
    "                                             figsize=(5, 5),\n",
    "                                             traj_length=5,\n",
    "                                             density=None,\n",
    "                                             n_levels=12,\n",
    "                                             cmap=mpl.cm.gray_r,\n",
    "                                             alpha=1.0,\n",
    "                                             show=True)\n",
    "plt.show()\n",
    "print(\"Plot generated.\")\n"
   ]
  },
  {
   "cell_type": "code",
   "execution_count": null,
   "id": "86f36ed2-1737-4cca-a378-07cfa122bab7",
   "metadata": {},
   "outputs": [],
   "source": []
  }
 ],
 "metadata": {
  "kernelspec": {
   "display_name": "Python 3 (ipykernel)",
   "language": "python",
   "name": "python3"
  },
  "language_info": {
   "codemirror_mode": {
    "name": "ipython",
    "version": 3
   },
   "file_extension": ".py",
   "mimetype": "text/x-python",
   "name": "python",
   "nbconvert_exporter": "python",
   "pygments_lexer": "ipython3",
   "version": "3.11.5"
  }
 },
 "nbformat": 4,
 "nbformat_minor": 5
}
