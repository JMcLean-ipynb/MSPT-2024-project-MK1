{
 "cells": [
  {
   "cell_type": "code",
   "execution_count": 1,
   "id": "a3c2d9f0-6cac-4a86-8c85-b12be674ab33",
   "metadata": {},
   "outputs": [
    {
     "name": "stdout",
     "output_type": "stream",
     "text": [
      "pytorch/CUDA not available or not correctly installed\n"
     ]
    }
   ],
   "source": [
    "import numpy as np\n",
    "import pandas as pd\n",
    "import trackpy\n",
    "import os\n",
    "import h5py\n",
    "import matplotlib as mpl\n",
    "import matplotlib.pyplot as plt\n",
    "from datetime import datetime\n",
    "import mspt.particle_fitting as fit\n",
    "import mspt.image_processing as img\n",
    "import mspt.particle_detection as detect\n",
    "import mspt.trajectory_analysis1 as traj\n",
    "import mspt.plotting as plot\n",
    "os.environ['NUMEXPR_MAX_THREADS'] = '32'\n"
   ]
  },
  {
   "cell_type": "code",
   "execution_count": 2,
   "id": "41422e75-2805-4054-be2b-6b0c7b8369e4",
   "metadata": {},
   "outputs": [],
   "source": [
    "# General parameters\n",
    "batch_mode = True\n",
    "frame_range = []\n",
    "navg = 1\n",
    "mode = 'continuous_median'\n",
    "window_length = 1001\n",
    "parallel = True\n",
    "GPU = False\n",
    "thresh = 0.00055\n",
    "DoG_estimates = {'T': 0.1423, 's': 2.1436, 'sigma': 1.2921}\n",
    "dmax = 4.\n",
    "max_frames_to_vanish = 0\n",
    "minimum_trajectory_length = 5\n",
    "\n",
    "# Movie acquisition parameters\n",
    "frame_rate = 199.8\n",
    "pixel_size = 84.4\n",
    "n_timelags_MSD = None\n",
    "n_timelags_JDD = None\n",
    "slope = 32876.71\n",
    "offset = -9.26\n"
   ]
  },
  {
   "cell_type": "code",
   "execution_count": 3,
   "id": "4e19fdd3-2be7-4c94-887b-e82e03bb1661",
   "metadata": {},
   "outputs": [
    {
     "name": "stdout",
     "output_type": "stream",
     "text": [
      "Selected file: /Users/jamesmclean/Downloads/001_sample.mp\n"
     ]
    }
   ],
   "source": [
    "# Specify directory\n",
    "directory = img.directoryDialog(os.getcwd())\n",
    "filepaths_data = img.find_filepaths(directory, extension='mp', exclude=None)\n",
    "\n",
    "assert len(filepaths_data) > 0, 'Cannot find any movie files to process in current directory'\n",
    "\n",
    "# Process first file\n",
    "filename = filepaths_data[0]\n",
    "print(f\"Selected file: {filename}\")\n"
   ]
  },
  {
   "cell_type": "code",
   "execution_count": 4,
   "id": "2b3c6629-456e-45c7-aac3-01bae8ddbac4",
   "metadata": {},
   "outputs": [
    {
     "name": "stdout",
     "output_type": "stream",
     "text": [
      "Loaded /Users/jamesmclean/Downloads/001_sample.mp\n"
     ]
    },
    {
     "data": {
      "application/vnd.jupyter.widget-view+json": {
       "model_id": "eab5860a69ff4403a6ca3b854d3fa2f7",
       "version_major": 2,
       "version_minor": 0
      },
      "text/plain": [
       "Generating frames...:   0%|          | 0/75000 [00:00<?, ?frames/s]"
      ]
     },
     "metadata": {},
     "output_type": "display_data"
    },
    {
     "name": "stdout",
     "output_type": "stream",
     "text": [
      "Background removal completed.\n"
     ]
    }
   ],
   "source": [
    "# Apply continuous median background removal\n",
    "frames, file = img.mp_reader(batch_mode=batch_mode,\n",
    "                             file_to_load=filename,\n",
    "                             frame_range=frame_range,\n",
    "                             mode=mode,\n",
    "                             navg=navg,\n",
    "                             window_length=window_length,\n",
    "                             parallel=parallel,\n",
    "                             GPU=GPU)\n",
    "print(\"Background removal completed.\")\n"
   ]
  },
  {
   "cell_type": "code",
   "execution_count": 5,
   "id": "de0a9016-12af-47bf-9312-54a73bb3cded",
   "metadata": {},
   "outputs": [
    {
     "data": {
      "application/vnd.jupyter.widget-view+json": {
       "model_id": "fdd8b85abda749dfbf5e03dfcec15c38",
       "version_major": 2,
       "version_minor": 0
      },
      "text/plain": [
       "Identifying particle candidates...:   0%|          | 0/74000 [00:00<?, ?frames/s]"
      ]
     },
     "metadata": {},
     "output_type": "display_data"
    },
    {
     "name": "stdout",
     "output_type": "stream",
     "text": [
      "3196326 particle candidates identified\n"
     ]
    },
    {
     "data": {
      "application/vnd.jupyter.widget-view+json": {
       "model_id": "f500b5b01eb94074b782cbd43ad6faaa",
       "version_major": 2,
       "version_minor": 0
      },
      "text/plain": [
       "Fitting particles...:   0%|          | 0/3196326 [00:00<?, ?candidate spots/s]"
      ]
     },
     "metadata": {},
     "output_type": "display_data"
    },
    {
     "name": "stdout",
     "output_type": "stream",
     "text": [
      "Candidate spots detection and fitting completed.\n"
     ]
    }
   ],
   "source": [
    "# Detect and fit candidate spots\n",
    "fitted_particles = fit.particle_fitter(frames,\n",
    "                                       halfsize=window_length//2,\n",
    "                                       thresh=thresh,\n",
    "                                       method='trust-ncg',\n",
    "                                       DoG_estimates=DoG_estimates)\n",
    "print(\"Candidate spots detection and fitting completed.\")\n"
   ]
  },
  {
   "cell_type": "code",
   "execution_count": null,
   "id": "687a480a-c931-41fe-b4c1-a2ad135a88f2",
   "metadata": {},
   "outputs": [
    {
     "name": "stdout",
     "output_type": "stream",
     "text": [
      "Frame 54084: 29 trajectories present.\n"
     ]
    }
   ],
   "source": [
    "# Link trajectories\n",
    "linked_trajectories = trackpy.link_df(fitted_particles, search_range=dmax, memory=max_frames_to_vanish)\n",
    "linked_trajectories = linked_trajectories.sort_values(by=['particle', 'frame'])\n",
    "trajectories_lenfilt = trackpy.filter_stubs(linked_trajectories, minimum_trajectory_length)\n",
    "print(\"Trajectories linked and filtered.\")\n"
   ]
  },
  {
   "cell_type": "code",
   "execution_count": null,
   "id": "4c1e85ad-05e4-44e2-b265-ee916e768c6d",
   "metadata": {},
   "outputs": [],
   "source": [
    "# Save trajectories to a temporary CSV file\n",
    "trajectories_file = 'trajectories_temp.csv'\n",
    "trajectories_lenfilt.to_csv(trajectories_file, index=False)\n",
    "print(f\"Trajectories saved to {trajectories_file}.\")\n"
   ]
  },
  {
   "cell_type": "code",
   "execution_count": null,
   "id": "534e855f-76de-4b54-8f91-fd971f57c6f2",
   "metadata": {},
   "outputs": [],
   "source": [
    "# Create a dummy output file path\n",
    "dummy_output_file = 'dummy_output.h5'\n",
    "\n",
    "# Fit trajectories and store results in memory\n",
    "traj.fit_trajectories([trajectories_file],\n",
    "                      output_file=dummy_output_file,\n",
    "                      frame_rate=frame_rate,\n",
    "                      pixel_size=pixel_size,\n",
    "                      n_timelags_MSD=n_timelags_MSD,\n",
    "                      n_timelags_JDD=n_timelags_JDD)\n",
    "print(\"Trajectories fitting completed.\")\n"
   ]
  },
  {
   "cell_type": "code",
   "execution_count": null,
   "id": "d70ef0e0-795b-4f83-b213-efd2a8f48052",
   "metadata": {},
   "outputs": [],
   "source": [
    "# Load data from the dummy output file\n",
    "with pd.HDFStore(dummy_output_file, 'r') as dfs:\n",
    "    results = pd.concat([dfs[key] for key in dfs.keys()])\n",
    "\n",
    "# Clean up the dummy output file\n",
    "os.remove(dummy_output_file)\n",
    "os.remove(trajectories_file)\n",
    "print(\"Data loaded from dummy output file and cleaned up.\")\n"
   ]
  },
  {
   "cell_type": "code",
   "execution_count": null,
   "id": "12510baf-d20e-43d1-89d0-91f251a5e4fc",
   "metadata": {},
   "outputs": [],
   "source": [
    "# Convert contrast to mass using the linear relationship obtained from calibration measurements\n",
    "results['median_mass'] = traj.apply_calibration(results, slope=slope, offset=offset)\n",
    "print(\"Converted contrast to mass.\")\n"
   ]
  },
  {
   "cell_type": "code",
   "execution_count": null,
   "id": "72163f48-f38e-4a9f-8989-374c62446098",
   "metadata": {},
   "outputs": [],
   "source": [
    "# Calculate the number of particles present for each trajectory 'particle number (linked)'\n",
    "results['particle number (linked)'] = traj.calc_particle_number_linked(results)\n",
    "results['particle number (detected)'] = traj.calc_particle_number_detected(results, '')\n",
    "print(\"Calculated particle numbers.\")\n"
   ]
  },
  {
   "cell_type": "code",
   "execution_count": null,
   "id": "e6af2908-ba38-40be-bfb1-e108afc2ee25",
   "metadata": {},
   "outputs": [],
   "source": [
    "# Plot data\n",
    "fig, axs, df_kde, dat = plot.generate_2D_KDE(results,\n",
    "                                             x='median_mass',\n",
    "                                             y='Deff_MSD_JDD',\n",
    "                                             x_range=(0, 400),\n",
    "                                             y_range=(-1, 1),  # in log space\n",
    "                                             figsize=(5, 5),\n",
    "                                             traj_length=5,\n",
    "                                             density=None,\n",
    "                                             n_levels=12,\n",
    "                                             cmap=mpl.cm.gray_r,\n",
    "                                             alpha=1.0,\n",
    "                                             show=True)\n",
    "plt.show()\n",
    "print(\"Plot generated.\")\n"
   ]
  },
  {
   "cell_type": "code",
   "execution_count": null,
   "id": "86f36ed2-1737-4cca-a378-07cfa122bab7",
   "metadata": {},
   "outputs": [],
   "source": []
  },
  {
   "cell_type": "code",
   "execution_count": null,
   "id": "d9fca9a5-695d-4eec-87ac-a3ab0bc6462a",
   "metadata": {},
   "outputs": [],
   "source": []
  }
 ],
 "metadata": {
  "kernelspec": {
   "display_name": "Python 3 (ipykernel)",
   "language": "python",
   "name": "python3"
  },
  "language_info": {
   "codemirror_mode": {
    "name": "ipython",
    "version": 3
   },
   "file_extension": ".py",
   "mimetype": "text/x-python",
   "name": "python",
   "nbconvert_exporter": "python",
   "pygments_lexer": "ipython3",
   "version": "3.11.5"
  }
 },
 "nbformat": 4,
 "nbformat_minor": 5
}
