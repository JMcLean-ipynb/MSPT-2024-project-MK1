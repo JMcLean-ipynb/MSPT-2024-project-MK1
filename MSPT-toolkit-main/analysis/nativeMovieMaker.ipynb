{
 "cells": [
  {
   "cell_type": "code",
   "execution_count": 3,
   "id": "055a6a70-23e3-44f6-9c34-83f433551855",
   "metadata": {},
   "outputs": [
    {
     "name": "stdout",
     "output_type": "stream",
     "text": [
      "Selected file: /Users/jamesmclean/Documents/Uni/Laidlaw/Ralf_Research/my_data/2024_08_01/001_JM_1A_I.mp\n"
     ]
    }
   ],
   "source": [
    "import tkinter as tk\n",
    "from tkinter import filedialog\n",
    "\n",
    "def open_file_dialog():\n",
    "    # Initialize Tkinter root\n",
    "    root = tk.Tk()\n",
    "    root.withdraw()  # Hide the root window\n",
    "\n",
    "    # Open file dialog and allow selection of .mp files\n",
    "    file_path = filedialog.askopenfilename(\n",
    "        title=\"Select a .mp file\",\n",
    "        filetypes=[(\"MP files\", \"*.mp\"), (\"All files\", \"*.*\")]\n",
    "    )\n",
    "    \n",
    "    # Return the selected file path\n",
    "    return file_path\n",
    "\n",
    "# Run the file dialog and get the selected file path\n",
    "selected_file_path = open_file_dialog()\n",
    "\n",
    "# Check the selected file path\n",
    "print(f\"Selected file: {selected_file_path}\")\n"
   ]
  },
  {
   "cell_type": "code",
   "execution_count": 4,
   "id": "d8684eb4-96f8-4201-8664-4ac6b25f0190",
   "metadata": {},
   "outputs": [
    {
     "name": "stdout",
     "output_type": "stream",
     "text": [
      "Keys in the file: ['analysis', 'display', 'format_version_number', 'movie']\n",
      "Frames loaded successfully with shape: (11988, 34, 128)\n"
     ]
    }
   ],
   "source": [
    "import h5py\n",
    "import numpy as np\n",
    "\n",
    "# Ensure a file has been selected\n",
    "if selected_file_path:\n",
    "    try:\n",
    "        # Open the file using h5py and extract frames\n",
    "        with h5py.File(selected_file_path, \"r\") as hdf_file:\n",
    "            # Check available keys to verify the file structure\n",
    "            print(\"Keys in the file:\", list(hdf_file.keys()))\n",
    "            \n",
    "            # Load the frames dataset\n",
    "            frames = hdf_file[\"movie/frame\"][:]\n",
    "        \n",
    "        # Print the shape of the frames to verify loading\n",
    "        print(f\"Frames loaded successfully with shape: {frames.shape}\")\n",
    "    except Exception as e:\n",
    "        print(f\"Error loading frames: {e}\")\n",
    "else:\n",
    "    print(\"No file selected.\")\n"
   ]
  },
  {
   "cell_type": "code",
   "execution_count": 5,
   "id": "f97d3e37-956b-46f7-a3cc-fb476d0ce726",
   "metadata": {},
   "outputs": [
    {
     "data": {
      "application/vnd.jupyter.widget-view+json": {
       "model_id": "e7604c787e9545838d066ee7c21c3d9c",
       "version_major": 2,
       "version_minor": 0
      },
      "text/plain": [
       "interactive(children=(IntSlider(value=0, description='frame_index', max=11987), Output()), _dom_classes=('widg…"
      ]
     },
     "metadata": {},
     "output_type": "display_data"
    }
   ],
   "source": [
    "import matplotlib.pyplot as plt\n",
    "import ipywidgets as widgets\n",
    "from ipywidgets import interact, fixed\n",
    "\n",
    "def display_frame(frame_index, frames):\n",
    "    \"\"\"\n",
    "    Display a single frame.\n",
    "\n",
    "    Parameters:\n",
    "        frame_index (int): Index of the frame to display.\n",
    "        frames (np.ndarray): Array of frames.\n",
    "    \"\"\"\n",
    "    plt.figure(figsize=(8, 4))\n",
    "    plt.imshow(frames[frame_index], cmap='gray')\n",
    "    plt.title(f\"Frame {frame_index}\")\n",
    "    plt.axis('off')\n",
    "    plt.show()\n",
    "\n",
    "def create_frame_slider(frames):\n",
    "    \"\"\"\n",
    "    Create an interactive slider to view frames.\n",
    "\n",
    "    Parameters:\n",
    "        frames (np.ndarray): Array of frames.\n",
    "    \"\"\"\n",
    "    interact(display_frame, frame_index=widgets.IntSlider(min=0, max=len(frames)-1, step=1, value=0), frames=fixed(frames))\n",
    "\n",
    "# Create an interactive slider if frames are loaded\n",
    "if 'frames' in locals():\n",
    "    create_frame_slider(frames)\n",
    "else:\n",
    "    print(\"Frames not loaded.\")\n"
   ]
  },
  {
   "cell_type": "code",
   "execution_count": 6,
   "id": "9243cbbd-d2a8-4d16-aaad-d7f0ee2c59ad",
   "metadata": {},
   "outputs": [
    {
     "name": "stdout",
     "output_type": "stream",
     "text": [
      "Keys in the file: ['analysis', 'display', 'format_version_number', 'movie']\n",
      "Frames loaded successfully with shape: (11988, 34, 128)\n",
      "Ratiometric images processed with shape: (11988, 34, 128)\n"
     ]
    }
   ],
   "source": [
    "import h5py\n",
    "import numpy as np\n",
    "\n",
    "# Ensure a file has been selected\n",
    "if selected_file_path:\n",
    "    try:\n",
    "        # Open the file using h5py and extract frames\n",
    "        with h5py.File(selected_file_path, \"r\") as hdf_file:\n",
    "            # Check available keys to verify the file structure\n",
    "            print(\"Keys in the file:\", list(hdf_file.keys()))\n",
    "            \n",
    "            # Load the frames dataset\n",
    "            frames = hdf_file[\"movie/frame\"][:]\n",
    "        \n",
    "        # Print the shape of the frames to verify loading\n",
    "        print(f\"Frames loaded successfully with shape: {frames.shape}\")\n",
    "    except Exception as e:\n",
    "        print(f\"Error loading frames: {e}\")\n",
    "else:\n",
    "    print(\"No file selected.\")\n",
    "\n",
    "# Implementing ratiometric image processing\n",
    "def process_ratiometric_images(frames):\n",
    "    \"\"\"\n",
    "    Process frames to create ratiometric images.\n",
    "\n",
    "    Parameters:\n",
    "        frames (np.ndarray): Array of raw frames.\n",
    "\n",
    "    Returns:\n",
    "        np.ndarray: Array of ratiometric images.\n",
    "    \"\"\"\n",
    "    # Assuming background subtraction is needed; we take the mean of initial frames as background\n",
    "    background = np.mean(frames[:10], axis=0)\n",
    "\n",
    "    # Subtract background from all frames\n",
    "    subtracted_frames = frames - background\n",
    "\n",
    "    # Calculate ratiometric images\n",
    "    # Example: Ratio between current frame and mean of initial frames for normalization\n",
    "    ratiometric_images = subtracted_frames / (background + 1e-5)  # Adding a small value to prevent division by zero\n",
    "\n",
    "    # Normalize the ratiometric images to the range of 0 to 255 for visualization\n",
    "    ratiometric_images = np.clip(ratiometric_images, 0, None)  # Ensure no negative values\n",
    "    ratiometric_images = (ratiometric_images / np.max(ratiometric_images) * 255).astype(np.uint8)\n",
    "    \n",
    "    return ratiometric_images\n",
    "\n",
    "# Process the frames to obtain ratiometric images\n",
    "if 'frames' in locals():\n",
    "    ratiometric_images = process_ratiometric_images(frames)\n",
    "    print(f\"Ratiometric images processed with shape: {ratiometric_images.shape}\")\n"
   ]
  },
  {
   "cell_type": "code",
   "execution_count": 7,
   "id": "997a4602-3dd4-4c03-89f8-ece616b00d4b",
   "metadata": {},
   "outputs": [
    {
     "data": {
      "application/vnd.jupyter.widget-view+json": {
       "model_id": "016a8be08f76452bbf60d1a3e180ca32",
       "version_major": 2,
       "version_minor": 0
      },
      "text/plain": [
       "interactive(children=(IntSlider(value=0, description='frame_index', max=11987), RadioButtons(description='Mode…"
      ]
     },
     "metadata": {},
     "output_type": "display_data"
    }
   ],
   "source": [
    "import matplotlib.pyplot as plt\n",
    "import ipywidgets as widgets\n",
    "from ipywidgets import interact, fixed\n",
    "\n",
    "def display_images(frame_index, frames, ratiometric_frames, mode='native'):\n",
    "    \"\"\"\n",
    "    Display a single frame.\n",
    "\n",
    "    Parameters:\n",
    "        frame_index (int): Index of the frame to display.\n",
    "        frames (np.ndarray): Array of frames.\n",
    "        ratiometric_frames (np.ndarray): Array of ratiometric frames.\n",
    "        mode (str): Display mode ('native' or 'ratiometric').\n",
    "    \"\"\"\n",
    "    plt.figure(figsize=(8, 4))\n",
    "    if mode == 'native':\n",
    "        plt.imshow(frames[frame_index], cmap='gray')\n",
    "        plt.title(f\"Native Image - Frame {frame_index}\")\n",
    "    else:\n",
    "        plt.imshow(ratiometric_frames[frame_index], cmap='gray')\n",
    "        plt.title(f\"Ratiometric Image - Frame {frame_index}\")\n",
    "    plt.axis('off')\n",
    "    plt.show()\n",
    "\n",
    "def create_interactive_viewer(frames, ratiometric_frames):\n",
    "    \"\"\"\n",
    "    Create an interactive viewer to toggle between native and ratiometric images.\n",
    "\n",
    "    Parameters:\n",
    "        frames (np.ndarray): Array of native frames.\n",
    "        ratiometric_frames (np.ndarray): Array of ratiometric frames.\n",
    "    \"\"\"\n",
    "    interact(display_images, \n",
    "             frame_index=widgets.IntSlider(min=0, max=len(frames)-1, step=1, value=0), \n",
    "             frames=fixed(frames),\n",
    "             ratiometric_frames=fixed(ratiometric_frames),\n",
    "             mode=widgets.RadioButtons(options=['native', 'ratiometric'], value='native', description='Mode'))\n",
    "\n",
    "# Create the interactive viewer if frames are loaded\n",
    "if 'frames' in locals() and 'ratiometric_images' in locals():\n",
    "    create_interactive_viewer(frames, ratiometric_images)\n",
    "else:\n",
    "    print(\"Frames or ratiometric images not loaded.\")\n"
   ]
  },
  {
   "cell_type": "code",
   "execution_count": null,
   "id": "fd64cb80-9d6e-4167-ba3f-b3c989589004",
   "metadata": {},
   "outputs": [],
   "source": []
  }
 ],
 "metadata": {
  "kernelspec": {
   "display_name": "Python 3 (ipykernel)",
   "language": "python",
   "name": "python3"
  },
  "language_info": {
   "codemirror_mode": {
    "name": "ipython",
    "version": 3
   },
   "file_extension": ".py",
   "mimetype": "text/x-python",
   "name": "python",
   "nbconvert_exporter": "python",
   "pygments_lexer": "ipython3",
   "version": "3.11.5"
  }
 },
 "nbformat": 4,
 "nbformat_minor": 5
}
