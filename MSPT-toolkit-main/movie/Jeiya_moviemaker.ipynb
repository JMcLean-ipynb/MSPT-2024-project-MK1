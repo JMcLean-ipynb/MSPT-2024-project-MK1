{
 "cells": [
  {
   "cell_type": "code",
   "execution_count": 1,
   "id": "92a94d9a",
   "metadata": {},
   "outputs": [
    {
     "name": "stdout",
     "output_type": "stream",
     "text": [
      "pytorch/CUDA not available or not correctly installed\n"
     ]
    }
   ],
   "source": [
    "import numpy as np\n",
    "import os\n",
    "import h5py\n",
    "\n",
    "import mspt.image_processing as img\n",
    "import mspt.particle_detection1 as detect\n",
    "import mspt.particle_fitting1 as fit\n",
    "os.environ['NUMEXPR_MAX_THREADS'] = '32'\n",
    "%matplotlib inline\n",
    "import matplotlib.pyplot as plt\n"
   ]
  },
  {
   "cell_type": "markdown",
   "id": "e8051d45",
   "metadata": {},
   "source": [
    "# Process movie for display"
   ]
  },
  {
   "cell_type": "markdown",
   "id": "d4d838af",
   "metadata": {},
   "source": [
    "## Select movie to process"
   ]
  },
  {
   "cell_type": "code",
   "execution_count": 2,
   "id": "cb532f55",
   "metadata": {},
   "outputs": [
    {
     "name": "stdout",
     "output_type": "stream",
     "text": [
      "Loaded /Users/jamesmclean/Documents/Uni/Laidlaw/Ralf_Research/my_data/2024_07_25/MP raw files/JM_1A/018_JM_1A_1.mp\n"
     ]
    }
   ],
   "source": [
    "#file = os.path.normpath(r'C:\\Users\\admin\\Desktop\\MSPT test\\0001_sample.mp') # set manually\n",
    "file = img.fileDialog(os.getcwd()) # or via dialog\n",
    "assert os.path.isfile(file), 'File \"{}\" does not exist'.format(file)"
   ]
  },
  {
   "cell_type": "markdown",
   "id": "35dbbada",
   "metadata": {},
   "source": [
    "## Parameter settings"
   ]
  },
  {
   "cell_type": "code",
   "execution_count": 3,
   "id": "f1006229",
   "metadata": {},
   "outputs": [],
   "source": [
    "# General parameters\n",
    "frame_range = [] # Restrict analysis to certain frames, e.g. [0, 2000], only applied if all_frames = False\n",
    "navg = 1 # Frame averaging before background removal\n",
    "assert len(frame_range)==2 or len(frame_range)==0, 'frame_range is expected to be either of type [] or [int, int]'\n",
    "\n",
    "# Background removal\n",
    "mode = 'continuous_median' # Choose background removal strategy\n",
    "window_length = 1000 # Set median window length\n",
    "\n",
    "# Choose between CPU and GPU processing. Set one of the two options True and the other one False.\n",
    "parallel = True # Use multiple CPU cores to perform background substraction\n",
    "GPU = False # Use GPU to perform background substraction, fastest option (requires CUDA and pytorch)"
   ]
  },
  {
   "cell_type": "markdown",
   "id": "d67735b4",
   "metadata": {},
   "source": [
    "## Background removal"
   ]
  },
  {
   "cell_type": "code",
   "execution_count": 4,
   "id": "22afe912",
   "metadata": {},
   "outputs": [
    {
     "name": "stdout",
     "output_type": "stream",
     "text": [
      "Loaded /Users/jamesmclean/Documents/Uni/Laidlaw/Ralf_Research/my_data/2024_07_25/MP raw files/JM_1A/018_JM_1A_1.mp\n"
     ]
    },
    {
     "data": {
      "application/vnd.jupyter.widget-view+json": {
       "model_id": "37a09765ebfc48f59744070a97a6a19c",
       "version_major": 2,
       "version_minor": 0
      },
      "text/plain": [
       "Generating frames...:   0%|          | 0/75000 [00:00<?, ?frames/s]"
      ]
     },
     "metadata": {},
     "output_type": "display_data"
    }
   ],
   "source": [
    "# Apply continuous median background removal\n",
    "frames, file = img.mp_reader(batch_mode=True,\n",
    "                             file_to_load=file,\n",
    "                             frame_range=frame_range,\n",
    "                             mode=mode,\n",
    "                             navg=navg,\n",
    "                             window_length=window_length,\n",
    "                             parallel=parallel, \n",
    "                             GPU=GPU)\n",
    "\n"
   ]
  },
  {
   "cell_type": "markdown",
   "id": "62903132",
   "metadata": {},
   "source": [
    "# Alternatively, load processed movie for display"
   ]
  },
  {
   "cell_type": "markdown",
   "id": "4c954c54",
   "metadata": {},
   "source": [
    "## Select processed movie to load"
   ]
  },
  {
   "cell_type": "code",
   "execution_count": 5,
   "id": "8ee9d3f1",
   "metadata": {
    "scrolled": true
   },
   "outputs": [
    {
     "name": "stdout",
     "output_type": "stream",
     "text": [
      "Loaded /Users/jamesmclean/Documents/Uni/Laidlaw/Ralf_Research/my_data/2024_07_25/MP raw files/JM_1A/018_JM_1A_1_median1001/018_JM_1A_1_median1001.h5\n",
      "Loaded processed movie /Users/jamesmclean/Documents/Uni/Laidlaw/Ralf_Research/my_data/2024_07_25/MP raw files/JM_1A/018_JM_1A_1_median1001/018_JM_1A_1_median1001.h5\n"
     ]
    }
   ],
   "source": [
    "#file = os.path.normpath(r'C:\\Users\\admin\\Desktop\\MSPT test\\001_sample_median1001.h5') # set manually\n",
    "file = img.fileDialog(os.getcwd()) # or via dialog\n",
    "assert os.path.isfile(file), 'File \"{}\" does not exist'.format(file)\n",
    "\n",
    "# Load processed movies from HDF5 file\n",
    "with h5py.File(file, 'r') as h5_file:\n",
    "    frames = np.asarray(h5_file['frames']).copy()\n",
    "    window_length = np.asarray(h5_file['window_length']).copy()\n",
    "    frame_range = np.asarray(h5_file['frame_range']).copy()\n",
    "    \n",
    "print('Loaded processed movie {}'.format(file))"
   ]
  },
  {
   "cell_type": "markdown",
   "id": "def2d32d",
   "metadata": {},
   "source": [
    "# Movie viewer"
   ]
  },
  {
   "cell_type": "markdown",
   "id": "72aaf5e6",
   "metadata": {},
   "source": [
    "## Basic viewer with frame slider"
   ]
  },
  {
   "cell_type": "code",
   "execution_count": 6,
   "id": "5be3cef6",
   "metadata": {},
   "outputs": [
    {
     "data": {
      "application/vnd.jupyter.widget-view+json": {
       "model_id": "92b37c55329a468eb2a2bd7b198097ba",
       "version_major": 2,
       "version_minor": 0
      },
      "text/plain": [
       "interactive(children=(IntSlider(value=0, description='frame', layout=Layout(width='90%'), max=74999), Output()…"
      ]
     },
     "metadata": {},
     "output_type": "display_data"
    }
   ],
   "source": [
    "\n",
    "# Use this viewer to slide through frames\n",
    "contrast_range = [-0.02, 0.02] # For display\n",
    "img.frame_slider(frames, vmin=contrast_range[0], vmax=contrast_range[1], figsize=(9.5, 9.5*frames.shape[1]/frames.shape[2]))\n",
    "\n",
    "import matplotlib.pyplot as plt\n",
    "\n",
    "import tkinter as tk\n",
    "from tkinter import filedialog\n",
    "import matplotlib.pyplot as plt\n",
    "\n",
    "# 创建 Tkinter 窗口\n",
    "root = tk.Tk()\n",
    "root.withdraw()  # 隐藏主窗口\n",
    "\n",
    "# 打开文件对话框，让用户选择保存的目录\n",
    "save_dir = filedialog.askdirectory()\n",
    "\n",
    "# 重新显示主窗口\n",
    "root.deiconify()\n",
    "\n",
    "contrast_range = [-0.05, 0.05] # For display\n",
    "\n",
    "# 循环遍历每一帧并保存\n",
    "for i in range(0, 5994):\n",
    "    plt.imshow(frames[i], cmap='gray')\n",
    "    plt.savefig(f'{save_dir}/{i}.png')  # 保存为以帧索引命名的 PNG 文件\n",
    "    plt.close()  # 关闭当前图形以释放内存\n"
   ]
  },
  {
   "cell_type": "code",
   "execution_count": 7,
   "id": "83d03b05-00b3-46d5-b2c8-d7675cf2e152",
   "metadata": {},
   "outputs": [
    {
     "name": "stdout",
     "output_type": "stream",
     "text": [
      "Video saved to: /Users/jamesmclean/Documents/Uni/Laidlaw/Ralf_Research/my_data/2024_07_25/MP raw files/JM_1A/018_JM_1A_1_median1001/video/output_video.mp4\n"
     ]
    }
   ],
   "source": [
    " import cv2\n",
    "import os\n",
    "from tkinter import filedialog\n",
    "import tkinter as tk\n",
    "import numpy as np\n",
    "\n",
    "def main():\n",
    "    # Create Tkinter window\n",
    "    root = tk.Tk()\n",
    "    root.withdraw()  # Hide main window\n",
    "\n",
    "    # Open file dialog for user to select image folder\n",
    "    folder_path = filedialog.askdirectory(title=\"Select Image Folder\")\n",
    "\n",
    "    # If user did not select a folder, exit\n",
    "    if not folder_path:\n",
    "        print(\"No folder selected, program exiting\")\n",
    "        exit()\n",
    "\n",
    "    # Open file dialog for user to select save directory\n",
    "    save_dir = filedialog.askdirectory(title=\"Select Save Directory for Video\")\n",
    "\n",
    "    # If user did not select a save directory, exit\n",
    "    if not save_dir:\n",
    "        print(\"No save directory selected, program exiting\")\n",
    "        exit()\n",
    "\n",
    "    # Output video file path\n",
    "    output_video_path = os.path.join(save_dir, \"output_video.mp4\")\n",
    "\n",
    "    # Get all image filenames in the folder\n",
    "    image_files = [file for file in os.listdir(folder_path) if file.endswith(\".png\")]\n",
    "\n",
    "    # Check if there are any image files\n",
    "    if not image_files:\n",
    "        print(\"No image files found, program exiting\")\n",
    "        exit()\n",
    "\n",
    "    # Sort images by creation time\n",
    "    image_files.sort(key=lambda x: os.path.getctime(os.path.join(folder_path, x)))\n",
    "\n",
    "    # Determine the maximum width and height\n",
    "    max_width = 0\n",
    "    max_height = 0\n",
    "    for image in image_files:\n",
    "        image_path = os.path.join(folder_path, image)\n",
    "        frame = cv2.imread(image_path)\n",
    "        if frame is not None:\n",
    "            height, width, _ = frame.shape\n",
    "            max_width = max(max_width, width)\n",
    "            max_height = max(max_height, height)\n",
    "\n",
    "    # Set video frame rate\n",
    "    fps = 10  # Adjust frame rate as needed\n",
    "\n",
    "    # Define video codec and create VideoWriter object\n",
    "    fourcc = cv2.VideoWriter_fourcc(*'mp4v')  # Use appropriate codec\n",
    "    video = cv2.VideoWriter(output_video_path, fourcc, fps, (max_width, max_height))\n",
    "\n",
    "    # Check if VideoWriter object is opened successfully\n",
    "    if not video.isOpened():\n",
    "        print(f\"Failed to create video writer, program exiting\")\n",
    "        exit()\n",
    "\n",
    "    # Add each image to the video\n",
    "    for image in image_files:\n",
    "        image_path = os.path.join(folder_path, image)\n",
    "        frame = cv2.imread(image_path)\n",
    "\n",
    "        if frame is None:\n",
    "            print(f\"Failed to read image {image_path}, skipping\")\n",
    "            continue\n",
    "\n",
    "        # Pad frame to the maximum size\n",
    "        height, width, _ = frame.shape\n",
    "        padded_frame = np.zeros((max_height, max_width, 3), dtype=np.uint8)\n",
    "        padded_frame[:height, :width] = frame\n",
    "\n",
    "        video.write(padded_frame)\n",
    "\n",
    "    # Release the video object\n",
    "    video.release()\n",
    "\n",
    "    print(\"Video saved to:\", output_video_path)\n",
    "\n",
    "if __name__ == \"__main__\":\n",
    "    main()\n"
   ]
  },
  {
   "cell_type": "markdown",
   "id": "5d625dbb",
   "metadata": {},
   "source": [
    "## Viewer with frame slider and detection threshold selection"
   ]
  },
  {
   "cell_type": "code",
   "execution_count": 8,
   "id": "f035c018",
   "metadata": {},
   "outputs": [
    {
     "data": {
      "application/vnd.jupyter.widget-view+json": {
       "model_id": "36e61aba6aa545a9958ec7c873ff872b",
       "version_major": 2,
       "version_minor": 0
      },
      "text/plain": [
       "interactive(children=(IntSlider(value=0, description='frame', layout=Layout(width='90%'), max=74999), Selectio…"
      ]
     },
     "metadata": {},
     "output_type": "display_data"
    },
    {
     "data": {
      "image/png": "[encoded data removed]",
      "text/plain": [
       "<Figure size 950x259.766 with 2 Axes>"
      ]
     },
     "metadata": {},
     "output_type": "display_data"
    }
   ],
   "source": [
    "# Use this viewer to select a suitable particle detection threshold thresh\n",
    "contrast_range = [-0.5, 0.5] # For display\n",
    "detect.frame_slider_view_cands(frames,\n",
    "                               vmin=contrast_range[0],\n",
    "                               vmax=contrast_range[1],\n",
    "                               figsize=(9.5, 9.5*frames.shape[1]/frames.shape[2]) )\n",
    "\n",
    "plt.imshow(frames[2067], cmap='gray')  # 显示第二帧\n",
    "plt.show()"
   ]
  },
  {
   "cell_type": "markdown",
   "id": "aca2735e",
   "metadata": {},
   "source": [
    "## Viewer with frame slider, detection threshold selection and successful particle fits"
   ]
  },
  {
   "cell_type": "code",
   "execution_count": 9,
   "id": "f2274f7d",
   "metadata": {},
   "outputs": [
    {
     "data": {
      "application/vnd.jupyter.widget-view+json": {
       "model_id": "58f2a7324b3e4906b08b5497ebb2a3c9",
       "version_major": 2,
       "version_minor": 0
      },
      "text/plain": [
       "interactive(children=(IntSlider(value=0, description='frame', layout=Layout(width='90%'), max=74999), Selectio…"
      ]
     },
     "metadata": {},
     "output_type": "display_data"
    },
    {
     "data": {
      "image/png": "[encoded data removed]",
      "text/plain": [
       "<Figure size 950x259.766 with 2 Axes>"
      ]
     },
     "metadata": {},
     "output_type": "display_data"
    }
   ],
   "source": [
    "# Use this viewer to see successful particle fits\n",
    "# NOTE: takes some time after first execution of cell and first slider update, but then it is smooth\n",
    "contrast_range = [-0.0075, 0.0075] # For display\n",
    "fit.frame_slider_view_cands_dets(frames,\n",
    "                                 vmin=contrast_range[0],\n",
    "                                 vmax=contrast_range[1],\n",
    "                                 method='trust-ncg',\n",
    "                                 DoG_estimates={'T' : 0.1423, 's' : 2.1436, 'sigma' : 1.2921},\n",
    "                                 figsize=(9.5, 9.5*frames.shape[1]/frames.shape[2]) )"
   ]
  },
  {
   "cell_type": "code",
   "execution_count": null,
   "id": "ae225d34-1523-468b-a861-ebab60205681",
   "metadata": {},
   "outputs": [],
   "source": []
  }
 ],
 "metadata": {
  "kernelspec": {
   "display_name": "Python 3 (ipykernel)",
   "language": "python",
   "name": "python3"
  },
  "language_info": {
   "codemirror_mode": {
    "name": "ipython",
    "version": 3
   },
   "file_extension": ".py",
   "mimetype": "text/x-python",
   "name": "python",
   "nbconvert_exporter": "python",
   "pygments_lexer": "ipython3",
   "version": "3.11.5"
  }
 },
 "nbformat": 4,
 "nbformat_minor": 5
}
